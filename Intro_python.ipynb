{
  "nbformat": 4,
  "nbformat_minor": 0,
  "metadata": {
    "colab": {
      "provenance": []
    },
    "kernelspec": {
      "name": "python3",
      "display_name": "Python 3"
    },
    "language_info": {
      "name": "python"
    }
  },
  "cells": [
    {
      "cell_type": "markdown",
      "source": [
        "# Hello World"
      ],
      "metadata": {
        "id": "fv-OWf9PSj8m"
      }
    },
    {
      "cell_type": "code",
      "execution_count": 2,
      "metadata": {
        "colab": {
          "base_uri": "https://localhost:8080/"
        },
        "id": "3DMcyAhKSXdp",
        "outputId": "1225996d-44a0-4963-c5f5-2aee401dcd39"
      },
      "outputs": [
        {
          "output_type": "stream",
          "name": "stdout",
          "text": [
            "Hello World!\n"
          ]
        }
      ],
      "source": [
        "print(\"Hello World!\")"
      ]
    },
    {
      "cell_type": "code",
      "source": [
        "name = \"Dhanti\"\n",
        "age = 23\n",
        "height = 164\n",
        "is_student = True\n",
        "\n",
        "print(name)"
      ],
      "metadata": {
        "colab": {
          "base_uri": "https://localhost:8080/"
        },
        "id": "Arj3TXlnTNSN",
        "outputId": "b39104a7-6070-4892-fb84-bc241222fd7d"
      },
      "execution_count": 3,
      "outputs": [
        {
          "output_type": "stream",
          "name": "stdout",
          "text": [
            "Dhanti\n"
          ]
        }
      ]
    },
    {
      "cell_type": "code",
      "source": [
        "print(f\"Halo nama saya {name}. Umur saya {age}. Tinggi badan saya {height}. Berapa 2+2? {2+2}\")"
      ],
      "metadata": {
        "colab": {
          "base_uri": "https://localhost:8080/"
        },
        "id": "u8rCEBW3Umxz",
        "outputId": "a7c2b1a9-983d-4433-dcd9-17b0d58b2170"
      },
      "execution_count": 4,
      "outputs": [
        {
          "output_type": "stream",
          "name": "stdout",
          "text": [
            "Halo nama saya Dhanti. Umur saya 23. Tinggi badan saya 164. Berapa 2+2? 4\n"
          ]
        }
      ]
    },
    {
      "cell_type": "markdown",
      "source": [
        "# Conditional Statement\n",
        "(=) hanya dipakai untuk assignment untuk satu variabel, dan if else memang menggunakan (:) setelah conditional statementnya. kalau setelah if ingin menunjukkan nilai sama dengan maka gunakan (==), kalah tidak sama dengan (!=)"
      ],
      "metadata": {
        "id": "O45dCSBAVQ0N"
      }
    },
    {
      "cell_type": "code",
      "source": [
        "age = 18\n",
        "if age > 17:\n",
        "  print(\"Boleh Masuk\")\n",
        "else:\n",
        "  print(\"Tidak Boleh Masuk\")"
      ],
      "metadata": {
        "colab": {
          "base_uri": "https://localhost:8080/"
        },
        "id": "p7cMZ2QzWDRk",
        "outputId": "c1a47f26-a3d6-4da9-fc93-934f062198c5"
      },
      "execution_count": 10,
      "outputs": [
        {
          "output_type": "stream",
          "name": "stdout",
          "text": [
            "Boleh Masuk\n"
          ]
        }
      ]
    },
    {
      "cell_type": "markdown",
      "source": [
        "#Loop\n",
        "FORLOOP\n",
        "logicnya range dalam python akan membuat deret angka yang dimulai dari [0-9] ada 10 angka yang dimulai dari 0. untuk (i) ini fungsinya sbg variabel.\n",
        "\n",
        "WHILELOOP. kalau while ini harus dibuat suatu variabel untuk menjaga, kalau tidak while akan terus berputar unlimited. cara perfikirnya, i saat  ini ada bepa misal i=0, dan 0 itu kecil dari 10 ga? kalau iya berarti true, lalu ada i+= 1 berarti i saat itu ditambah 1 lalu di assign lagi ke i\n"
      ],
      "metadata": {
        "id": "CFotWMwpX13S"
      }
    },
    {
      "cell_type": "code",
      "source": [
        "#for\n",
        "for i in range (10):\n",
        "  print(i)"
      ],
      "metadata": {
        "colab": {
          "base_uri": "https://localhost:8080/"
        },
        "id": "a9f6HeiJX4bK",
        "outputId": "02f1ea5a-f0ee-42cc-9014-dfc0943a8d7d"
      },
      "execution_count": 11,
      "outputs": [
        {
          "output_type": "stream",
          "name": "stdout",
          "text": [
            "0\n",
            "1\n",
            "2\n",
            "3\n",
            "4\n",
            "5\n",
            "6\n",
            "7\n",
            "8\n",
            "9\n"
          ]
        }
      ]
    },
    {
      "cell_type": "code",
      "source": [
        "i=0\n",
        "while i < 10:\n",
        "  print(i)\n",
        "  i += 1"
      ],
      "metadata": {
        "colab": {
          "base_uri": "https://localhost:8080/"
        },
        "id": "69_rlZIvYTgJ",
        "outputId": "735f5aa9-cdcc-425a-f4dc-9cf0ca8bb8f4"
      },
      "execution_count": 12,
      "outputs": [
        {
          "output_type": "stream",
          "name": "stdout",
          "text": [
            "0\n",
            "1\n",
            "2\n",
            "3\n",
            "4\n",
            "5\n",
            "6\n",
            "7\n",
            "8\n",
            "9\n"
          ]
        }
      ]
    },
    {
      "cell_type": "markdown",
      "source": [
        "#Function\n",
        "kalau yang pertama yang dihasilkan bentuk print. misal hasil dari function 1 ini mau kita masukan ke variabel baru namanya adalah hasil, akan muncul 2 macam 5 dan none. 5 muncul dari row pertama atau hasil dari perintah f(2) sedangkan yang none berasal dari print(hasil) karena print itu cuma nampilin tapi value gadikasi ke kita, ibaratnya 5 itu gabisa di save cuma sekali pakai.\n",
        "\n",
        "kalau function kedua nilainya hanya satu yaitu 5, karena kita pake return, dia mengembalikan suatu value dan kita tampung dalam variabel"
      ],
      "metadata": {
        "id": "2WzTMWEcbNqJ"
      }
    },
    {
      "cell_type": "code",
      "source": [
        "def f(x):\n",
        "  print((2*x)+1)"
      ],
      "metadata": {
        "id": "9AURmMvabQqS"
      },
      "execution_count": 13,
      "outputs": []
    },
    {
      "cell_type": "code",
      "source": [
        "f(2)"
      ],
      "metadata": {
        "colab": {
          "base_uri": "https://localhost:8080/"
        },
        "id": "NKwmi4sZdcDS",
        "outputId": "838c3d58-3d55-405a-f45b-626d940c9ac9"
      },
      "execution_count": 14,
      "outputs": [
        {
          "output_type": "stream",
          "name": "stdout",
          "text": [
            "5\n"
          ]
        }
      ]
    },
    {
      "cell_type": "code",
      "source": [
        "hasil = f(2)\n",
        "print(hasil)"
      ],
      "metadata": {
        "colab": {
          "base_uri": "https://localhost:8080/"
        },
        "id": "k0VatmvrdeAh",
        "outputId": "34a56af3-0f24-4e5b-a0d3-c2cbd74fe67d"
      },
      "execution_count": 15,
      "outputs": [
        {
          "output_type": "stream",
          "name": "stdout",
          "text": [
            "5\n",
            "None\n"
          ]
        }
      ]
    },
    {
      "cell_type": "code",
      "source": [
        "def f2(x):\n",
        "  return (2*x)+1"
      ],
      "metadata": {
        "id": "Q2eItueIdi-u"
      },
      "execution_count": 16,
      "outputs": []
    },
    {
      "cell_type": "code",
      "source": [
        "f2(2)"
      ],
      "metadata": {
        "colab": {
          "base_uri": "https://localhost:8080/"
        },
        "id": "totCUo1bdw5F",
        "outputId": "8611bdd6-9e47-4bb0-b47a-1c6fa6dc8fbb"
      },
      "execution_count": 17,
      "outputs": [
        {
          "output_type": "execute_result",
          "data": {
            "text/plain": [
              "5"
            ]
          },
          "metadata": {},
          "execution_count": 17
        }
      ]
    },
    {
      "cell_type": "code",
      "source": [
        "hasilx = f2(2)\n",
        "print(hasilx)"
      ],
      "metadata": {
        "colab": {
          "base_uri": "https://localhost:8080/"
        },
        "id": "6IC9DX2pd3NS",
        "outputId": "c1c1d613-6933-49f0-ee4f-37a552e339a8"
      },
      "execution_count": 18,
      "outputs": [
        {
          "output_type": "stream",
          "name": "stdout",
          "text": [
            "5\n"
          ]
        }
      ]
    },
    {
      "cell_type": "markdown",
      "source": [
        "#List (array)\n",
        "list diawali dengan [\"\"]. didalam array itu ada elemen spt \"Apple\",\"Banana\" dll, nah kita bisa mengambil satu elemennya saja dengan cara print(fruits[0]) 0 itu adalah index, misalnya index 0 itu diisi dengan Apple, index 1 adalah Banana dan index 2 adalah cherry. selanjutnya ada append artinya menambahkan elemen di paling belakang, sehingga ketika print ulang maka muncul sampai orange. kalau print(fruits[-1]), -1 itu artinya mengakses item nya dari belakang, kalau -2 berarti kita mengakses item 2 dari belakang"
      ],
      "metadata": {
        "id": "KJJ63G9-etXX"
      }
    },
    {
      "cell_type": "code",
      "source": [
        "#         0      , 1      , 2     ,3  ,4 DEPAN\n",
        "#         -6     , -5     , -4,   ,-3,-2,   -1 BELAKANG\n",
        "fruits = [\"Apple\",\"Banana\",\"Cherry\",4,1.5] #Orange\n",
        "print(fruits[0]) #Output: Apple\n",
        "buah1 = fruits[0]\n",
        "print(buah1)\n",
        "fruits.append(\"Orange\") # Add a new item\n",
        "print(fruits)\n",
        "print(fruits[5])\n",
        "print(fruits[-1])\n",
        "print(fruits[-2])\n",
        "print(fruits[0:4:1]) # Mengurutkan item dari 0-4 dengan lompatan 1 kali tapi item ke 4 ga masuk lagi\n",
        "print(fruits[-1::-1]) # Mengurutkan dari belakang\n",
        "print(fruits[-1::-2]) # Mengurutkan dengan lompar 2 kali"
      ],
      "metadata": {
        "colab": {
          "base_uri": "https://localhost:8080/"
        },
        "id": "BHzFle_JextQ",
        "outputId": "ed742507-67c6-4b70-d13f-ed03546443a6"
      },
      "execution_count": 30,
      "outputs": [
        {
          "output_type": "stream",
          "name": "stdout",
          "text": [
            "Apple\n",
            "Apple\n",
            "['Apple', 'Banana', 'Cherry', 4, 1.5, 'Orange']\n",
            "Orange\n",
            "Orange\n",
            "1.5\n",
            "['Apple', 'Banana', 'Cherry', 4]\n",
            "['Orange', 1.5, 4, 'Cherry', 'Banana', 'Apple']\n",
            "['Orange', 4, 'Banana']\n"
          ]
        }
      ]
    },
    {
      "cell_type": "code",
      "source": [],
      "metadata": {
        "id": "fFXINS1zfOeW"
      },
      "execution_count": null,
      "outputs": []
    }
  ]
}